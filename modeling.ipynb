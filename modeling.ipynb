{
 "cells": [
  {
   "cell_type": "code",
   "execution_count": 1,
   "metadata": {},
   "outputs": [
    {
     "name": "stderr",
     "output_type": "stream",
     "text": [
      "C:\\Users\\Sibmice\\Anaconda3\\lib\\site-packages\\pytorch_lightning\\utilities\\distributed.py:37: UserWarning: Unsupported `ReduceOp` for distributed computing.\n",
      "  warnings.warn(*args, **kwargs)\n"
     ]
    }
   ],
   "source": [
    "from data_loading import load_data\n",
    "from sklearn.model_selection import KFold\n",
    "import neptune\n",
    "import torch\n",
    "import numpy as np\n",
    "import random\n",
    "import os\n",
    "import pandas as pd\n",
    "import math\n",
    "from IPython.display import display, Javascript\n",
    "import pytorch_lightning as pl\n",
    "import torch.nn.functional as F\n",
    "from pytorch_lightning import Trainer, seed_everything\n",
    "from iterstrat.ml_stratifiers import MultilabelStratifiedKFold"
   ]
  },
  {
   "cell_type": "code",
   "execution_count": 2,
   "metadata": {},
   "outputs": [
    {
     "data": {
      "text/plain": [
       "Project(iliaavilov/MOA-prediction)"
      ]
     },
     "execution_count": 2,
     "metadata": {},
     "output_type": "execute_result"
    }
   ],
   "source": [
    "neptune.init('iliaavilov/MOA-prediction')"
   ]
  },
  {
   "cell_type": "code",
   "execution_count": 3,
   "metadata": {},
   "outputs": [],
   "source": [
    "random_state = 999\n",
    "def set_seed(seed = 999) -> None:\n",
    "    np.random.seed(seed)\n",
    "    random.seed(seed)\n",
    "    os.environ['PYTHONHASHSEED'] = str(seed)\n",
    "    torch.backends.cudnn.benchmark = False\n",
    "    torch.backends.cudnn.deterministic = True\n",
    "    torch.manual_seed(seed)\n",
    "    torch.cuda.manual_seed(seed)\n",
    "    torch.cuda.manual_seed_all(seed)"
   ]
  },
  {
   "cell_type": "markdown",
   "metadata": {},
   "source": [
    "# Загрузка данных"
   ]
  },
  {
   "cell_type": "code",
   "execution_count": 4,
   "metadata": {},
   "outputs": [],
   "source": [
    "train_targets, test_features, train_features = load_data(pca_features = None)"
   ]
  },
  {
   "cell_type": "code",
   "execution_count": 5,
   "metadata": {},
   "outputs": [],
   "source": [
    "y = train_targets.values[:10000]\n",
    "X = train_features.values[:10000]"
   ]
  },
  {
   "cell_type": "markdown",
   "metadata": {},
   "source": [
    "# Валидация"
   ]
  },
  {
   "cell_type": "code",
   "execution_count": 6,
   "metadata": {},
   "outputs": [
    {
     "name": "stderr",
     "output_type": "stream",
     "text": [
      "C:\\Users\\Sibmice\\Anaconda3\\lib\\site-packages\\sklearn\\utils\\validation.py:70: FutureWarning: Pass shuffle=True, random_state=999 as keyword args. From version 0.25 passing these as positional arguments will result in an error\n",
      "  FutureWarning)\n"
     ]
    }
   ],
   "source": [
    "mlsk = MultilabelStratifiedKFold(n_splits = 5, shuffle = True, random_state = random_state)\n",
    "cv = list(mlsk.split(X, y))"
   ]
  },
  {
   "cell_type": "code",
   "execution_count": 7,
   "metadata": {},
   "outputs": [],
   "source": [
    "device = torch.device('cuda:0')"
   ]
  },
  {
   "cell_type": "code",
   "execution_count": 8,
   "metadata": {},
   "outputs": [],
   "source": [
    "y = torch.from_numpy(y).float().to(device)\n",
    "X = torch.from_numpy(X).float().to(device)"
   ]
  },
  {
   "cell_type": "markdown",
   "metadata": {},
   "source": [
    "# Модель"
   ]
  },
  {
   "cell_type": "markdown",
   "metadata": {},
   "source": [
    "## Model class"
   ]
  },
  {
   "cell_type": "code",
   "execution_count": 9,
   "metadata": {},
   "outputs": [],
   "source": [
    "class simple_torchpl(pl.LightningModule):\n",
    "    \n",
    "    def __init__(self, n_in, n_h, n_out, fold_num):\n",
    "        super(simple_torchpl, self).__init__()\n",
    "        self.drop1 = torch.nn.Dropout(0.5)\n",
    "        self.bn1 = torch.nn.BatchNorm1d(n_in)\n",
    "        self.fc1 = torch.nn.Linear(n_in, n_h)\n",
    "        self.hardswish = torch.nn.Hardswish()\n",
    "        self.bn2 = torch.nn.BatchNorm1d(n_h)\n",
    "        self.drop2 = torch.nn.Dropout(0.4)\n",
    "        self.fc2 = torch.nn.Linear(n_h, n_h)\n",
    "        self.fc3 = torch.nn.Linear(n_h, n_out)\n",
    "        self.sigm = torch.nn.Sigmoid()\n",
    "        \n",
    "        self.fold_num = fold_num\n",
    "        \n",
    "        self.train_score = []\n",
    "        self.val_score = []\n",
    "        self.train_score_targets = []\n",
    "        self.val_score_targets = []\n",
    "\n",
    "    def forward(self, x):\n",
    "        x = self.drop1(x)\n",
    "        x = self.bn1(x)\n",
    "        x = self.fc1(x)\n",
    "        x = self.hardswish(x)\n",
    "        x = self.bn2(x)\n",
    "        x = self.drop2(x)\n",
    "        x = self.fc2(x)\n",
    "        x = self.hardswish(x)\n",
    "        x = self.drop2(x)\n",
    "        x = self.fc2(x)\n",
    "        x = self.hardswish(x)\n",
    "        x = self.fc3(x)\n",
    "        out = self.sigm(x)\n",
    "        return out\n",
    "    \n",
    "    \n",
    "    def training_step(self, batch, batch_idx):\n",
    "        x, y = batch\n",
    "        y_pred = self.forward(x)\n",
    "        train_loss = F.binary_cross_entropy(y_pred, y)\n",
    "        self.train_score.append(F.binary_cross_entropy(y_pred[:, :206], y[:, :206]).item())\n",
    "        for i in range(0, 206):\n",
    "            self.train_score_targets.append(F.binary_cross_entropy(y_pred[:, i], y[:, i]).item())\n",
    "        return(train_loss)\n",
    "    \n",
    "    def validation_step(self, batch, batch_idx):\n",
    "        x, y = batch\n",
    "        y_pred = self.forward(x)\n",
    "        test_loss = F.binary_cross_entropy(y_pred, y)\n",
    "        self.val_score.append(F.binary_cross_entropy(y_pred[:, :206], y[:, :206]).item())\n",
    "        for i in range(0, 206):\n",
    "            self.train_score_targets.append(F.binary_cross_entropy(y_pred[:, i], y[:, i]).item())\n",
    "        return(test_loss)\n",
    "    \n",
    "    \n",
    "    def configure_optimizers(self):\n",
    "        return torch.optim.AdamW(self.parameters(), weight_decay = 0.7)"
   ]
  },
  {
   "cell_type": "markdown",
   "metadata": {},
   "source": [
    "## Training"
   ]
  },
  {
   "cell_type": "code",
   "execution_count": 10,
   "metadata": {
    "scrolled": true
   },
   "outputs": [],
   "source": [
    "class nn_training():\n",
    "    \n",
    "    def __init__(self, X, y, cv, train_batch_size, epochs, neptune_logging = True):\n",
    "        \n",
    "        self.train_loss_folds = np.array([])\n",
    "        self.test_loss_folds = np.array([])\n",
    "        \n",
    "        self.epochs = epochs\n",
    "        self.neptune_logging = neptune_logging\n",
    "        self.cv = cv\n",
    "        self.X = X\n",
    "        self.y = y\n",
    "        self.train_batch_size = train_batch_size\n",
    "    \n",
    "    def data_loaders(self, fold):\n",
    "        \n",
    "        X_train = X[fold[0]]\n",
    "        y_train = y[fold[0]]\n",
    "        X_test = X[fold[1]]\n",
    "        y_test = y[fold[1]]\n",
    "        set_seed(seed = random_state)\n",
    "        train_dataset = torch.utils.data.TensorDataset(X_train, y_train)\n",
    "        train_loader = torch.utils.data.DataLoader(train_dataset, \n",
    "                                                   batch_size = self.train_batch_size, shuffle = False)\n",
    "\n",
    "        val_dataset = torch.utils.data.TensorDataset(X_test, y_test)\n",
    "        val_loader = torch.utils.data.DataLoader(val_dataset, batch_size = y_test.shape[0], shuffle = False)\n",
    "        \n",
    "        return(train_loader, val_loader)\n",
    "    \n",
    "    def train(self):\n",
    "        for fold, fold_num in zip(self.cv, list(range(0, len(self.cv)))):\n",
    "            self.fold_train(fold, fold_num)\n",
    "            if (fold_num+1 == len(self.cv)) & (self.neptune_logging == True):\n",
    "                self.logging_stats()\n",
    "    \n",
    "    def fold_train(self, fold, fold_num):\n",
    "        train_loader, val_loader = self.data_loaders( fold)\n",
    "        set_seed(seed = random_state)\n",
    "        l_model = simple_torchpl(X.shape[1], 1024, y.shape[1], fold_num)\n",
    "        trainer = pl.Trainer(min_epochs = self.epochs, \n",
    "                             max_epochs = self.epochs,\n",
    "                             progress_bar_refresh_rate = 0,\n",
    "                             early_stop_callback = False,\n",
    "                             num_sanity_val_steps = 0, \n",
    "                             gpus = 1)\n",
    "    \n",
    "        ## Тренирум модель\n",
    "        trainer.fit(l_model, train_loader, val_loader)\n",
    "        if self.neptune_logging == True:\n",
    "            self.logging(l_model.val_score, l_model.train_score, \n",
    "                         l_model.val_score_targets, l_model.train_score_targets, \n",
    "                         train_loader, fold_num)\n",
    "            \n",
    "            \n",
    "    def logging(self, test_score, train_score, test_score_target, train_score_target, train_loader, fold_num):\n",
    "        global tt, pp\n",
    "        test_score = np.array(test_score)\n",
    "        train_score = np.array(train_score)\n",
    "        test_score_target = np.array(test_score_target)\n",
    "        train_score_target = np.array(train_score_target)\n",
    "        train_score_target = np.reshape(train_score_target, \n",
    "                                        (-1, \n",
    "                                         206, \n",
    "                                         math.ceil(np.array([batch[0].shape[0] for batch in train_loader]).sum()/\n",
    "                                                   self.train_batch_size)))\n",
    "        tt = train_score_target\n",
    "        train_score = np.reshape(train_score, \n",
    "                                 (-1, \n",
    "                                  math.ceil(np.array([batch[0].shape[0] for batch in train_loader]).sum()/\n",
    "                                            self.train_batch_size)))\n",
    "        pp = train_score\n",
    "        weights = [batch[0].shape[0] for batch in train_loader]\n",
    "        train_score = np.average(train_score, weights = weights, axis = 1)\n",
    "        train_score_target = np.average(train_score, weights = weights, axis = 2)\n",
    "        \n",
    "        neptune.log_metric('train loss target {} fold {}'.format(fold_num), loss_train)\n",
    "        neptune.log_metric('test loss target {} fold {}'.format(fold_num), loss_test)\n",
    "\n",
    "        for loss_train, loss_test in zip(train_score, test_score):\n",
    "            neptune.log_metric('train loss fold {}'.format(fold_num), loss_train)\n",
    "            neptune.log_metric('test loss fold {}'.format(fold_num), loss_test)\n",
    "\n",
    "        self.train_loss_folds = np.append(self.train_loss_folds, train_score)\n",
    "        self.test_loss_folds = np.append(self.test_loss_folds, test_score)\n",
    "        \n",
    "    def logging_stats(self):\n",
    "        train_loss_folds_mean = np.mean(self.train_loss_folds.reshape(len(self.cv), -1), axis = 0)\n",
    "        test_loss_folds_mean = np.mean(self.test_loss_folds.reshape(len(self.cv), -1), axis = 0)\n",
    "\n",
    "        train_loss_folds_var = np.var(self.train_loss_folds.reshape(len(self.cv), -1), axis = 0)\n",
    "        test_loss_folds_var = np.var(self.test_loss_folds.reshape(len(self.cv), -1), axis = 0)\n",
    "\n",
    "        for train_loss_mean, test_loss_mean, train_loss_var, test_loss_var in zip(train_loss_folds_mean, test_loss_folds_mean,\n",
    "                                                                                  train_loss_folds_var, test_loss_folds_var):\n",
    "            neptune.log_metric('train loss mean', train_loss_mean)\n",
    "            neptune.log_metric('test loss mean', test_loss_mean)\n",
    "            neptune.log_metric('train loss var', train_loss_var)\n",
    "            neptune.log_metric('test loss var', test_loss_var)\n",
    "\n",
    "        neptune.log_metric('var at min mean train', train_loss_folds_var[np.argmin(train_loss_folds_mean)])\n",
    "        neptune.log_metric('var at min mean test', train_loss_folds_var[np.argmin(test_loss_folds_mean)])"
   ]
  },
  {
   "cell_type": "code",
   "execution_count": 11,
   "metadata": {},
   "outputs": [],
   "source": [
    "training_nn = nn_training(X, y, cv, train_batch_size = 5048, epochs = 1000, neptune_logging = True)"
   ]
  },
  {
   "cell_type": "code",
   "execution_count": 12,
   "metadata": {
    "scrolled": true
   },
   "outputs": [
    {
     "data": {
      "application/javascript": [
       "IPython.notebook.save_checkpoint();"
      ],
      "text/plain": [
       "<IPython.core.display.Javascript object>"
      ]
     },
     "metadata": {},
     "output_type": "display_data"
    },
    {
     "name": "stdout",
     "output_type": "stream",
     "text": [
      "https://ui.neptune.ai/iliaavilov/MOA-prediction/e/MOA-278\r\n"
     ]
    },
    {
     "name": "stderr",
     "output_type": "stream",
     "text": [
      "GPU available: True, used: True\n",
      "TPU available: False, using: 0 TPU cores\n",
      "CUDA_VISIBLE_DEVICES: [0]\n",
      "C:\\Users\\Sibmice\\Anaconda3\\lib\\site-packages\\pytorch_lightning\\utilities\\distributed.py:37: UserWarning: Could not log computational graph since the `model.example_input_array` attribute is not set or `input_array` was not given\n",
      "  warnings.warn(*args, **kwargs)\n",
      "\n",
      "  | Name      | Type        | Params\n",
      "------------------------------------------\n",
      "0 | drop1     | Dropout     | 0     \n",
      "1 | bn1       | BatchNorm1d | 1 K   \n",
      "2 | fc1       | Linear      | 900 K \n",
      "3 | hardswish | Hardswish   | 0     \n",
      "4 | bn2       | BatchNorm1d | 2 K   \n",
      "5 | drop2     | Dropout     | 0     \n",
      "6 | fc2       | Linear      | 1 M   \n",
      "7 | fc3       | Linear      | 623 K \n",
      "8 | sigm      | Sigmoid     | 0     \n",
      "C:\\Users\\Sibmice\\Anaconda3\\lib\\site-packages\\pytorch_lightning\\utilities\\distributed.py:37: RuntimeWarning: The metric you returned None must be a `torch.Tensor` instance, checkpoint not saved HINT: what is the value of loss in validation_epoch_end()?\n",
      "  warnings.warn(*args, **kwargs)\n",
      "C:\\Users\\Sibmice\\Anaconda3\\lib\\site-packages\\pytorch_lightning\\utilities\\distributed.py:37: RuntimeWarning: Can save best model only with loss available, skipping.\n",
      "  warnings.warn(*args, **kwargs)\n",
      "Saving latest checkpoint..\n"
     ]
    },
    {
     "ename": "IndexError",
     "evalue": "tuple index out of range",
     "output_type": "error",
     "traceback": [
      "\u001b[1;31m---------------------------------------------------------------------------\u001b[0m",
      "\u001b[1;31mIndexError\u001b[0m                                Traceback (most recent call last)",
      "\u001b[1;32m<ipython-input-12-dc4c6639de5a>\u001b[0m in \u001b[0;36m<module>\u001b[1;34m\u001b[0m\n\u001b[0;32m      3\u001b[0m                           \u001b[0mdescription\u001b[0m \u001b[1;33m=\u001b[0m \u001b[1;34m'MOA 260. Batch size 5048. One more layer'\u001b[0m\u001b[1;33m,\u001b[0m\u001b[1;33m\u001b[0m\u001b[1;33m\u001b[0m\u001b[0m\n\u001b[0;32m      4\u001b[0m                           tags = ['Multitarget strat. kfold'])\n\u001b[1;32m----> 5\u001b[1;33m \u001b[0mtraining_nn\u001b[0m\u001b[1;33m.\u001b[0m\u001b[0mtrain\u001b[0m\u001b[1;33m(\u001b[0m\u001b[1;33m)\u001b[0m\u001b[1;33m\u001b[0m\u001b[1;33m\u001b[0m\u001b[0m\n\u001b[0m\u001b[0;32m      6\u001b[0m \u001b[0mneptune\u001b[0m\u001b[1;33m.\u001b[0m\u001b[0mstop\u001b[0m\u001b[1;33m(\u001b[0m\u001b[1;33m)\u001b[0m\u001b[1;33m\u001b[0m\u001b[1;33m\u001b[0m\u001b[0m\n",
      "\u001b[1;32m<ipython-input-10-86f50286f65d>\u001b[0m in \u001b[0;36mtrain\u001b[1;34m(self)\u001b[0m\n\u001b[0;32m     31\u001b[0m     \u001b[1;32mdef\u001b[0m \u001b[0mtrain\u001b[0m\u001b[1;33m(\u001b[0m\u001b[0mself\u001b[0m\u001b[1;33m)\u001b[0m\u001b[1;33m:\u001b[0m\u001b[1;33m\u001b[0m\u001b[1;33m\u001b[0m\u001b[0m\n\u001b[0;32m     32\u001b[0m         \u001b[1;32mfor\u001b[0m \u001b[0mfold\u001b[0m\u001b[1;33m,\u001b[0m \u001b[0mfold_num\u001b[0m \u001b[1;32min\u001b[0m \u001b[0mzip\u001b[0m\u001b[1;33m(\u001b[0m\u001b[0mself\u001b[0m\u001b[1;33m.\u001b[0m\u001b[0mcv\u001b[0m\u001b[1;33m,\u001b[0m \u001b[0mlist\u001b[0m\u001b[1;33m(\u001b[0m\u001b[0mrange\u001b[0m\u001b[1;33m(\u001b[0m\u001b[1;36m0\u001b[0m\u001b[1;33m,\u001b[0m \u001b[0mlen\u001b[0m\u001b[1;33m(\u001b[0m\u001b[0mself\u001b[0m\u001b[1;33m.\u001b[0m\u001b[0mcv\u001b[0m\u001b[1;33m)\u001b[0m\u001b[1;33m)\u001b[0m\u001b[1;33m)\u001b[0m\u001b[1;33m)\u001b[0m\u001b[1;33m:\u001b[0m\u001b[1;33m\u001b[0m\u001b[1;33m\u001b[0m\u001b[0m\n\u001b[1;32m---> 33\u001b[1;33m             \u001b[0mself\u001b[0m\u001b[1;33m.\u001b[0m\u001b[0mfold_train\u001b[0m\u001b[1;33m(\u001b[0m\u001b[0mfold\u001b[0m\u001b[1;33m,\u001b[0m \u001b[0mfold_num\u001b[0m\u001b[1;33m)\u001b[0m\u001b[1;33m\u001b[0m\u001b[1;33m\u001b[0m\u001b[0m\n\u001b[0m\u001b[0;32m     34\u001b[0m             \u001b[1;32mif\u001b[0m \u001b[1;33m(\u001b[0m\u001b[0mfold_num\u001b[0m\u001b[1;33m+\u001b[0m\u001b[1;36m1\u001b[0m \u001b[1;33m==\u001b[0m \u001b[0mlen\u001b[0m\u001b[1;33m(\u001b[0m\u001b[0mself\u001b[0m\u001b[1;33m.\u001b[0m\u001b[0mcv\u001b[0m\u001b[1;33m)\u001b[0m\u001b[1;33m)\u001b[0m \u001b[1;33m&\u001b[0m \u001b[1;33m(\u001b[0m\u001b[0mself\u001b[0m\u001b[1;33m.\u001b[0m\u001b[0mneptune_logging\u001b[0m \u001b[1;33m==\u001b[0m \u001b[1;32mTrue\u001b[0m\u001b[1;33m)\u001b[0m\u001b[1;33m:\u001b[0m\u001b[1;33m\u001b[0m\u001b[1;33m\u001b[0m\u001b[0m\n\u001b[0;32m     35\u001b[0m                 \u001b[0mself\u001b[0m\u001b[1;33m.\u001b[0m\u001b[0mlogging_stats\u001b[0m\u001b[1;33m(\u001b[0m\u001b[1;33m)\u001b[0m\u001b[1;33m\u001b[0m\u001b[1;33m\u001b[0m\u001b[0m\n",
      "\u001b[1;32m<ipython-input-10-86f50286f65d>\u001b[0m in \u001b[0;36mfold_train\u001b[1;34m(self, fold, fold_num)\u001b[0m\n\u001b[0;32m     51\u001b[0m             self.logging(l_model.val_score, l_model.train_score, \n\u001b[0;32m     52\u001b[0m                          \u001b[0ml_model\u001b[0m\u001b[1;33m.\u001b[0m\u001b[0mval_score_targets\u001b[0m\u001b[1;33m,\u001b[0m \u001b[0ml_model\u001b[0m\u001b[1;33m.\u001b[0m\u001b[0mtrain_score_targets\u001b[0m\u001b[1;33m,\u001b[0m\u001b[1;33m\u001b[0m\u001b[1;33m\u001b[0m\u001b[0m\n\u001b[1;32m---> 53\u001b[1;33m                          train_loader, fold_num)\n\u001b[0m\u001b[0;32m     54\u001b[0m \u001b[1;33m\u001b[0m\u001b[0m\n\u001b[0;32m     55\u001b[0m \u001b[1;33m\u001b[0m\u001b[0m\n",
      "\u001b[1;32m<ipython-input-10-86f50286f65d>\u001b[0m in \u001b[0;36mlogging\u001b[1;34m(self, test_score, train_score, test_score_target, train_score_target, train_loader, fold_num)\u001b[0m\n\u001b[0;32m     73\u001b[0m         \u001b[0mweights\u001b[0m \u001b[1;33m=\u001b[0m \u001b[1;33m[\u001b[0m\u001b[0mbatch\u001b[0m\u001b[1;33m[\u001b[0m\u001b[1;36m0\u001b[0m\u001b[1;33m]\u001b[0m\u001b[1;33m.\u001b[0m\u001b[0mshape\u001b[0m\u001b[1;33m[\u001b[0m\u001b[1;36m0\u001b[0m\u001b[1;33m]\u001b[0m \u001b[1;32mfor\u001b[0m \u001b[0mbatch\u001b[0m \u001b[1;32min\u001b[0m \u001b[0mtrain_loader\u001b[0m\u001b[1;33m]\u001b[0m\u001b[1;33m\u001b[0m\u001b[1;33m\u001b[0m\u001b[0m\n\u001b[0;32m     74\u001b[0m         \u001b[0mtrain_score\u001b[0m \u001b[1;33m=\u001b[0m \u001b[0mnp\u001b[0m\u001b[1;33m.\u001b[0m\u001b[0maverage\u001b[0m\u001b[1;33m(\u001b[0m\u001b[0mtrain_score\u001b[0m\u001b[1;33m,\u001b[0m \u001b[0mweights\u001b[0m \u001b[1;33m=\u001b[0m \u001b[0mweights\u001b[0m\u001b[1;33m,\u001b[0m \u001b[0maxis\u001b[0m \u001b[1;33m=\u001b[0m \u001b[1;36m1\u001b[0m\u001b[1;33m)\u001b[0m\u001b[1;33m\u001b[0m\u001b[1;33m\u001b[0m\u001b[0m\n\u001b[1;32m---> 75\u001b[1;33m         \u001b[0mtrain_score_target\u001b[0m \u001b[1;33m=\u001b[0m \u001b[0mnp\u001b[0m\u001b[1;33m.\u001b[0m\u001b[0maverage\u001b[0m\u001b[1;33m(\u001b[0m\u001b[0mtrain_score\u001b[0m\u001b[1;33m,\u001b[0m \u001b[0mweights\u001b[0m \u001b[1;33m=\u001b[0m \u001b[0mweights\u001b[0m\u001b[1;33m,\u001b[0m \u001b[0maxis\u001b[0m \u001b[1;33m=\u001b[0m \u001b[1;36m2\u001b[0m\u001b[1;33m)\u001b[0m\u001b[1;33m\u001b[0m\u001b[1;33m\u001b[0m\u001b[0m\n\u001b[0m\u001b[0;32m     76\u001b[0m \u001b[1;33m\u001b[0m\u001b[0m\n\u001b[0;32m     77\u001b[0m         \u001b[0mneptune\u001b[0m\u001b[1;33m.\u001b[0m\u001b[0mlog_metric\u001b[0m\u001b[1;33m(\u001b[0m\u001b[1;34m'train loss target {} fold {}'\u001b[0m\u001b[1;33m.\u001b[0m\u001b[0mformat\u001b[0m\u001b[1;33m(\u001b[0m\u001b[0mfold_num\u001b[0m\u001b[1;33m)\u001b[0m\u001b[1;33m,\u001b[0m \u001b[0mloss_train\u001b[0m\u001b[1;33m)\u001b[0m\u001b[1;33m\u001b[0m\u001b[1;33m\u001b[0m\u001b[0m\n",
      "\u001b[1;32m<__array_function__ internals>\u001b[0m in \u001b[0;36maverage\u001b[1;34m(*args, **kwargs)\u001b[0m\n",
      "\u001b[1;32m~\\Anaconda3\\lib\\site-packages\\numpy\\lib\\function_base.py\u001b[0m in \u001b[0;36maverage\u001b[1;34m(a, axis, weights, returned)\u001b[0m\n\u001b[0;32m    397\u001b[0m                 raise TypeError(\n\u001b[0;32m    398\u001b[0m                     \"1D weights expected when shapes of a and weights differ.\")\n\u001b[1;32m--> 399\u001b[1;33m             \u001b[1;32mif\u001b[0m \u001b[0mwgt\u001b[0m\u001b[1;33m.\u001b[0m\u001b[0mshape\u001b[0m\u001b[1;33m[\u001b[0m\u001b[1;36m0\u001b[0m\u001b[1;33m]\u001b[0m \u001b[1;33m!=\u001b[0m \u001b[0ma\u001b[0m\u001b[1;33m.\u001b[0m\u001b[0mshape\u001b[0m\u001b[1;33m[\u001b[0m\u001b[0maxis\u001b[0m\u001b[1;33m]\u001b[0m\u001b[1;33m:\u001b[0m\u001b[1;33m\u001b[0m\u001b[1;33m\u001b[0m\u001b[0m\n\u001b[0m\u001b[0;32m    400\u001b[0m                 raise ValueError(\n\u001b[0;32m    401\u001b[0m                     \"Length of weights not compatible with specified axis.\")\n",
      "\u001b[1;31mIndexError\u001b[0m: tuple index out of range"
     ]
    }
   ],
   "source": [
    "display(Javascript('IPython.notebook.save_checkpoint();'))\n",
    "neptune.create_experiment(upload_source_files=['Start.ipynb', 'data_loading.py'], \n",
    "                          description = 'MOA 260. Batch size 5048. One more layer',\n",
    "                          tags = ['Multitarget strat. kfold'])\n",
    "training_nn.train()\n",
    "neptune.stop()"
   ]
  },
  {
   "cell_type": "code",
   "execution_count": null,
   "metadata": {},
   "outputs": [],
   "source": [
    "train_score_target1[0][0]"
   ]
  },
  {
   "cell_type": "code",
   "execution_count": null,
   "metadata": {},
   "outputs": [],
   "source": [
    "aa = np.average(train_score_target1, weights = [1], axis = 2)"
   ]
  },
  {
   "cell_type": "code",
   "execution_count": null,
   "metadata": {},
   "outputs": [],
   "source": [
    "aa.shape"
   ]
  }
 ],
 "metadata": {
  "kernelspec": {
   "display_name": "Python 3",
   "language": "python",
   "name": "python3"
  },
  "language_info": {
   "codemirror_mode": {
    "name": "ipython",
    "version": 3
   },
   "file_extension": ".py",
   "mimetype": "text/x-python",
   "name": "python",
   "nbconvert_exporter": "python",
   "pygments_lexer": "ipython3",
   "version": "3.7.9"
  }
 },
 "nbformat": 4,
 "nbformat_minor": 4
}
